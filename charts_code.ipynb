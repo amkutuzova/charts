{
  "nbformat": 4,
  "nbformat_minor": 0,
  "metadata": {
    "colab": {
      "provenance": [],
      "authorship_tag": "ABX9TyPGx4G/PNovuLknpILpzxvv",
      "include_colab_link": true
    },
    "kernelspec": {
      "name": "python3",
      "display_name": "Python 3"
    },
    "language_info": {
      "name": "python"
    }
  },
  "cells": [
    {
      "cell_type": "markdown",
      "metadata": {
        "id": "view-in-github",
        "colab_type": "text"
      },
      "source": [
        "<a href=\"https://colab.research.google.com/github/amkutuzova/charts/blob/main/charts_code.ipynb\" target=\"_parent\"><img src=\"https://colab.research.google.com/assets/colab-badge.svg\" alt=\"Open In Colab\"/></a>"
      ]
    },
    {
      "cell_type": "code",
      "execution_count": null,
      "metadata": {
        "id": "gdBizrNLAvnC"
      },
      "outputs": [],
      "source": [
        "import pandas as pd\n",
        "import matplotlib.pyplot as plt\n",
        "\n",
        "df = pd.read_csv('/content/books.csv')\n",
        "\n",
        "def line_chart(df):\n",
        "    a=df[df['Год']==2023]\n",
        "    plt.subplot(2,1,1)\n",
        "    plt.plot(a['Месяц'], a['Книги'], linestyle='solid', marker='o', color='r', label='Прочитано книг')\n",
        "    plt.title('Прочитанные книги 2023')\n",
        "    plt.xlabel('Месяцы')\n",
        "    plt.ylabel('Количество книг')\n",
        "    plt.grid()\n",
        "    plt.legend()\n",
        "    return plt.show()\n",
        "\n",
        "def bar_chart(df):\n",
        "    b=df[df['Год']==2024]\n",
        "    plt.subplot(2,1,2)\n",
        "    plt.bar(b['Месяц'], b['Страницы'], color='g', label='Прочитано страниц')\n",
        "    plt.title('Прочитанные страницы 2024')\n",
        "    plt.xlabel('Месяцы')\n",
        "    plt.ylabel('Количество страниц')\n",
        "    plt.grid()\n",
        "    plt.legend()\n",
        "    return plt.show()\n",
        "\n",
        "plt.tight_layout()\n",
        "\n",
        "line_chart(df)\n",
        "bar_chart(df)"
      ]
    }
  ]
}